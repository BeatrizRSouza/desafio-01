{
 "cells": [
  {
   "cell_type": "code",
   "execution_count": null,
   "id": "9e2d1ef7-e4af-49fb-9b56-135c21092f70",
   "metadata": {},
   "outputs": [],
   "source": [
    "## Cálculo do valor da variável"
   ]
  },
  {
   "cell_type": "code",
   "execution_count": 1,
   "id": "bfb613d9-5cfb-4464-9a9e-ffd295981540",
   "metadata": {},
   "outputs": [
    {
     "name": "stdout",
     "output_type": "stream",
     "text": [
      "O valor de SOMA ao final do processamento é: 91\n"
     ]
    }
   ],
   "source": [
    "INDICE = 13\n",
    "SOMA = 0\n",
    "K = 0\n",
    "\n",
    "while K < INDICE:\n",
    "    K += 1\n",
    "    SOMA += K\n",
    "\n",
    "print(f\"O valor de SOMA ao final do processamento é: {SOMA}\")"
   ]
  },
  {
   "cell_type": "code",
   "execution_count": null,
   "id": "7ef6ef09-bbe4-4ff4-a72c-1bacc0d0aa71",
   "metadata": {},
   "outputs": [],
   "source": [
    "## 2) Verificação de número na sequência de Fibonacci"
   ]
  },
  {
   "cell_type": "code",
   "execution_count": null,
   "id": "3087d1b1-f737-4818-bc79-a2e6deb7ac9e",
   "metadata": {},
   "outputs": [],
   "source": [
    "def fibonacci(n):\n",
    "    a, b = 0, 1\n",
    "    while a <= n:\n",
    "        if a == n:\n",
    "            return True\n",
    "        a, b = b, a + b\n",
    "    return False\n",
    "\n",
    "num = int(input(\"Digite um número: \"))\n",
    "\n",
    "if fibonacci(num):\n",
    "    print(f\"O número {num} pertence à sequência de Fibonacci.\")\n",
    "else:\n",
    "    print(f\"O número {num} não pertence à sequência de Fibonacci.\")\n"
   ]
  },
  {
   "cell_type": "code",
   "execution_count": null,
   "id": "493786c0-758d-4b08-af5a-0e81da0d306b",
   "metadata": {},
   "outputs": [],
   "source": [
    "## 3) Cálculo de faturamento diário"
   ]
  },
  {
   "cell_type": "code",
   "execution_count": null,
   "id": "e1feff3c-0a36-4fb8-bf32-0b0064e8e827",
   "metadata": {},
   "outputs": [],
   "source": [
    "import json\n",
    "\n",
    "with open('dados.json', 'r') as file:\n",
    "    dados = json.load(file)\n",
    "faturamento = [dia['valor'] for dia in dados if dia['valor'] > 0]\n",
    "menor_faturamento = min(faturamento)\n",
    "maior_faturamento = max(faturamento)\n",
    "media_mensal = sum(faturamento) / len(faturamento)\n",
    "dias_acima_da_media = sum(1 for valor in faturamento if valor > media_mensal)\n",
    "print(f\"Menor faturamento: R${menor_faturamento:.2f}\")\n",
    "print(f\"Maior faturamento: R${maior_faturamento:.2f}\")\n",
    "print(f\"Dias com faturamento acima da média: {dias_acima_da_media}\")   "
   ]
  },
  {
   "cell_type": "code",
   "execution_count": null,
   "id": "2a0c3234-65e6-4955-920b-97612b5e04d6",
   "metadata": {},
   "outputs": [],
   "source": [
    "## 4) Percentual de faturamento por estado"
   ]
  },
  {
   "cell_type": "code",
   "execution_count": null,
   "id": "9e6636b3-a9a7-4912-b8e8-6c96b103b106",
   "metadata": {},
   "outputs": [],
   "source": [
    "faturamento_estados = {\n",
    "    'SP': 67836.43,\n",
    "    'RJ': 36678.66,\n",
    "    'MG': 29229.88,\n",
    "    'ES': 27165.48,\n",
    "    'Outros': 19849.53\n",
    "}\n",
    "\n",
    "faturamento_total = sum(faturamento_estados.values())\n",
    "\n",
    "for estado, valor in faturamento_estados.items():\n",
    "    percentual = (valor / faturamento_total) * 100\n",
    "    print(f\"Estado: {estado} - Percentual: {percentual:.2f}%\")"
   ]
  },
  {
   "cell_type": "code",
   "execution_count": null,
   "id": "334d5659-f617-4211-99e3-05d3418bb5f7",
   "metadata": {},
   "outputs": [],
   "source": [
    "## 5) Escreva um programa que inverta os caracteres de um string."
   ]
  },
  {
   "cell_type": "code",
   "execution_count": null,
   "id": "89010f09-56fa-412c-b7c1-745b97bc5f88",
   "metadata": {},
   "outputs": [],
   "source": [
    "def inverte_string(s):\n",
    "    invertida = ''\n",
    "    for char in s:\n",
    "        invertida = char + invertida\n",
    "    return invertida\n",
    "string = input(\"Informe a string: \")\n",
    "print(f\"String invertida: {inverte_string(string)}\")\n",
    "String invertida: nohtyP\n"
   ]
  }
 ],
 "metadata": {
  "kernelspec": {
   "display_name": "Python 3 (ipykernel)",
   "language": "python",
   "name": "python3"
  },
  "language_info": {
   "codemirror_mode": {
    "name": "ipython",
    "version": 3
   },
   "file_extension": ".py",
   "mimetype": "text/x-python",
   "name": "python",
   "nbconvert_exporter": "python",
   "pygments_lexer": "ipython3",
   "version": "3.12.4"
  }
 },
 "nbformat": 4,
 "nbformat_minor": 5
}
